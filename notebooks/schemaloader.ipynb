{
 "cells": [
  {
   "cell_type": "code",
   "execution_count": null,
   "metadata": {},
   "outputs": [],
   "source": [
    "#!pip install -e .."
   ]
  },
  {
   "cell_type": "markdown",
   "metadata": {},
   "source": [
    "# SchemaLoader\n",
    "`SchemaLoader` will load any schema that conforms to the [biolink metamodel](https://github.com/biolink/biolink-model/blob/master/meta.yaml).  The constructor takes one argument that can be:\n",
    "* a file name\n",
    "* a URL\n",
    "* a JSON object\n",
    "\n",
    "The `resolve()` function reconciles imports, reconciles domains and ranges, resolves properties and checks for errors. It returns a [SchemaDefinition](https://github.com/biolink/biolink-model/blob/master/metamodel/metamodel.py) object."
   ]
  },
  {
   "cell_type": "code",
   "execution_count": 15,
   "metadata": {},
   "outputs": [
    {
     "name": "stdout",
     "output_type": "stream",
     "text": [
      "['in taxon']\n",
      "thing with taxon\n",
      "organism taxon\n",
      "{\n",
      "   \"name\": \"in taxon\",\n",
      "   \"description\": \"connects a thing to a class representing a taxon\",\n",
      "   \"mappings\": [\n",
      "      \"RO:0002162\",\n",
      "      \"WD:P703\"\n",
      "   ],\n",
      "   \"in_subset\": [\n",
      "      \"translator_minimal\"\n",
      "   ],\n",
      "   \"is_a\": \"related to\",\n",
      "   \"domain\": \"thing with taxon\",\n",
      "   \"range\": \"organism taxon\"\n",
      "}\n"
     ]
    }
   ],
   "source": [
    "import os\n",
    "from metamodel.utils.schemaloader import SchemaLoader\n",
    "from metamodel.metamodel import SchemaDefinition\n",
    "from jsonasobj import as_json\n",
    "\n",
    "schema = SchemaLoader(os.path.join('..', 'biolink-model.yaml')).resolve()\n",
    "print(schema.classes['thing with taxon'].slots)\n",
    "print(schema.slots['in taxon'].domain)\n",
    "print(schema.slots['in taxon'].range)\n",
    "taxonSlot = schema.slots['in taxon']\n",
    "print(as_json(taxonSlot))"
   ]
  },
  {
   "cell_type": "code",
   "execution_count": null,
   "metadata": {},
   "outputs": [],
   "source": []
  }
 ],
 "metadata": {
  "kernelspec": {
   "display_name": "Python 3",
   "language": "python",
   "name": "python3"
  },
  "language_info": {
   "codemirror_mode": {
    "name": "ipython",
    "version": 3
   },
   "file_extension": ".py",
   "mimetype": "text/x-python",
   "name": "python",
   "nbconvert_exporter": "python",
   "pygments_lexer": "ipython3",
   "version": "3.7.0"
  }
 },
 "nbformat": 4,
 "nbformat_minor": 2
}
