{
 "cells": [
  {
   "cell_type": "code",
   "execution_count": 1,
   "metadata": {
    "collapsed": true
   },
   "outputs": [],
   "source": [
    "!pip install rdflib -q\n",
    "!pip install rdflib-jsonld -q"
   ]
  },
  {
   "cell_type": "code",
   "execution_count": 4,
   "metadata": {},
   "outputs": [
    {
     "name": "stderr",
     "output_type": "stream",
     "text": [
      "http://identifiers.org/mgi/Mouse Genome Database ID (supplied by MGI) does not look like a valid URI, trying to serialize this will break.\n"
     ]
    },
    {
     "name": "stderr",
     "output_type": "stream",
     "text": [
      "http://identifiers.org/hgnc id does not look like a valid URI, trying to serialize this will break.\n"
     ]
    },
    {
     "name": "stderr",
     "output_type": "stream",
     "text": [
      "http://identifiers.org/mgi/Mouse Genome Database ID does not look like a valid URI, trying to serialize this will break.\n"
     ]
    },
    {
     "name": "stderr",
     "output_type": "stream",
     "text": [
      "http://identifiers.org/hgnc id does not look like a valid URI, trying to serialize this will break.\n"
     ]
    },
    {
     "name": "stderr",
     "output_type": "stream",
     "text": [
      "http://identifiers.org/mgi/Rat Genome Database ID (supplied by RGD) does not look like a valid URI, trying to serialize this will break.\n"
     ]
    },
    {
     "name": "stderr",
     "output_type": "stream",
     "text": [
      "http://identifiers.org/hgnc id does not look like a valid URI, trying to serialize this will break.\n"
     ]
    },
    {
     "name": "stderr",
     "output_type": "stream",
     "text": [
      "http://identifiers.org/hgnc id does not look like a valid URI, trying to serialize this will break.\n"
     ]
    },
    {
     "name": "stderr",
     "output_type": "stream",
     "text": [
      "https://www.ncbi.nlm.nih.gov/nuccore/RefSeq IDs does not look like a valid URI, trying to serialize this will break.\n"
     ]
    },
    {
     "name": "stderr",
     "output_type": "stream",
     "text": [
      "http://identifiers.org/hgnc id does not look like a valid URI, trying to serialize this will break.\n"
     ]
    },
    {
     "name": "stderr",
     "output_type": "stream",
     "text": [
      "https://www.ncbi.nlm.nih.gov/nuccore/RefSeq (supplied by NCBI) does not look like a valid URI, trying to serialize this will break.\n"
     ]
    },
    {
     "name": "stderr",
     "output_type": "stream",
     "text": [
      "http://data2services/model/chromosome/1 not on reference assembly does not look like a valid URI, trying to serialize this will break.\n"
     ]
    },
    {
     "name": "stderr",
     "output_type": "stream",
     "text": [
      "http://data2services/model/chromosome/10p11.2 or 17q25 does not look like a valid URI, trying to serialize this will break.\n"
     ]
    },
    {
     "name": "stderr",
     "output_type": "stream",
     "text": [
      "http://data2services/model/chromosome/10q11.22 not on reference assembly does not look like a valid URI, trying to serialize this will break.\n"
     ]
    },
    {
     "name": "stderr",
     "output_type": "stream",
     "text": [
      "http://data2services/model/chromosome/10q23.3 or 10q24.2 does not look like a valid URI, trying to serialize this will break.\n"
     ]
    },
    {
     "name": "stderr",
     "output_type": "stream",
     "text": [
      "http://data2services/model/chromosome/11q1 alternate reference locus does not look like a valid URI, trying to serialize this will break.\n"
     ]
    },
    {
     "name": "stderr",
     "output_type": "stream",
     "text": [
      "http://data2services/model/chromosome/11q11 alternate reference locus does not look like a valid URI, trying to serialize this will break.\n"
     ]
    },
    {
     "name": "stderr",
     "output_type": "stream",
     "text": [
      "http://data2services/model/chromosome/12 alternate reference locus does not look like a valid URI, trying to serialize this will break.\n"
     ]
    },
    {
     "name": "stderr",
     "output_type": "stream",
     "text": [
      "http://data2services/model/chromosome/13cen, GRCh38 novel patch does not look like a valid URI, trying to serialize this will break.\n"
     ]
    },
    {
     "name": "stderr",
     "output_type": "stream",
     "text": [
      "http://data2services/model/chromosome/13p12 not on reference assembly does not look like a valid URI, trying to serialize this will break.\n"
     ]
    },
    {
     "name": "stderr",
     "output_type": "stream",
     "text": [
      "http://data2services/model/chromosome/14 unplaced does not look like a valid URI, trying to serialize this will break.\n"
     ]
    },
    {
     "name": "stderr",
     "output_type": "stream",
     "text": [
      "http://data2services/model/chromosome/14p12 not on reference assembly does not look like a valid URI, trying to serialize this will break.\n"
     ]
    },
    {
     "name": "stderr",
     "output_type": "stream",
     "text": [
      "http://data2services/model/chromosome/14q32.33 not on reference assembly does not look like a valid URI, trying to serialize this will break.\n"
     ]
    },
    {
     "name": "stderr",
     "output_type": "stream",
     "text": [
      "http://data2services/model/chromosome/15 not on reference assembly does not look like a valid URI, trying to serialize this will break.\n"
     ]
    },
    {
     "name": "stderr",
     "output_type": "stream",
     "text": [
      "http://data2services/model/chromosome/15p12 not on reference assembly does not look like a valid URI, trying to serialize this will break.\n"
     ]
    },
    {
     "name": "stderr",
     "output_type": "stream",
     "text": [
      "http://data2services/model/chromosome/15q11.2 not on reference assembly does not look like a valid URI, trying to serialize this will break.\n"
     ]
    },
    {
     "name": "stderr",
     "output_type": "stream",
     "text": [
      "http://data2services/model/chromosome/15q25.2 alternate reference locus does not look like a valid URI, trying to serialize this will break.\n"
     ]
    },
    {
     "name": "stderr",
     "output_type": "stream",
     "text": [
      "http://data2services/model/chromosome/17q12 alternate reference locus does not look like a valid URI, trying to serialize this will break.\n"
     ]
    },
    {
     "name": "stderr",
     "output_type": "stream",
     "text": [
      "http://data2services/model/chromosome/19q13.4 alternate reference locus does not look like a valid URI, trying to serialize this will break.\n"
     ]
    },
    {
     "name": "stderr",
     "output_type": "stream",
     "text": [
      "http://data2services/model/chromosome/1p36.21 alternate reference locus does not look like a valid URI, trying to serialize this will break.\n"
     ]
    },
    {
     "name": "stderr",
     "output_type": "stream",
     "text": [
      "http://data2services/model/chromosome/1q21.2 not on reference assembly does not look like a valid URI, trying to serialize this will break.\n"
     ]
    },
    {
     "name": "stderr",
     "output_type": "stream",
     "text": [
      "http://data2services/model/chromosome/1q41 not on reference assembly does not look like a valid URI, trying to serialize this will break.\n"
     ]
    },
    {
     "name": "stderr",
     "output_type": "stream",
     "text": [
      "http://data2services/model/chromosome/21p11.1 not on reference assembly does not look like a valid URI, trying to serialize this will break.\n"
     ]
    },
    {
     "name": "stderr",
     "output_type": "stream",
     "text": [
      "http://data2services/model/chromosome/21p11.2 not on reference assembly does not look like a valid URI, trying to serialize this will break.\n"
     ]
    },
    {
     "name": "stderr",
     "output_type": "stream",
     "text": [
      "http://data2services/model/chromosome/21p12 not on reference assembly does not look like a valid URI, trying to serialize this will break.\n"
     ]
    },
    {
     "name": "stderr",
     "output_type": "stream",
     "text": [
      "http://data2services/model/chromosome/22 unplaced does not look like a valid URI, trying to serialize this will break.\n"
     ]
    },
    {
     "name": "stderr",
     "output_type": "stream",
     "text": [
      "http://data2services/model/chromosome/22p12 not on reference assembly does not look like a valid URI, trying to serialize this will break.\n"
     ]
    },
    {
     "name": "stderr",
     "output_type": "stream",
     "text": [
      "http://data2services/model/chromosome/22q11.2 alternate reference locus does not look like a valid URI, trying to serialize this will break.\n"
     ]
    },
    {
     "name": "stderr",
     "output_type": "stream",
     "text": [
      "http://data2services/model/chromosome/22q11.23 alternate reference locus does not look like a valid URI, trying to serialize this will break.\n"
     ]
    },
    {
     "name": "stderr",
     "output_type": "stream",
     "text": [
      "http://data2services/model/chromosome/22q13 alternate reference locus does not look like a valid URI, trying to serialize this will break.\n"
     ]
    },
    {
     "name": "stderr",
     "output_type": "stream",
     "text": [
      "http://data2services/model/chromosome/2p21 not on reference assembly does not look like a valid URI, trying to serialize this will break.\n"
     ]
    },
    {
     "name": "stderr",
     "output_type": "stream",
     "text": [
      "http://data2services/model/chromosome/3p14.2 not on reference assembly does not look like a valid URI, trying to serialize this will break.\n"
     ]
    },
    {
     "name": "stderr",
     "output_type": "stream",
     "text": [
      "http://data2services/model/chromosome/5q13.2 alternate reference locus does not look like a valid URI, trying to serialize this will break.\n"
     ]
    },
    {
     "name": "stderr",
     "output_type": "stream",
     "text": [
      "http://data2services/model/chromosome/6p21 alternate reference locus does not look like a valid URI, trying to serialize this will break.\n"
     ]
    },
    {
     "name": "stderr",
     "output_type": "stream",
     "text": [
      "http://data2services/model/chromosome/6p21.3 alternate reference locus does not look like a valid URI, trying to serialize this will break.\n"
     ]
    },
    {
     "name": "stderr",
     "output_type": "stream",
     "text": [
      "http://data2services/model/chromosome/7q22 not on reference assembly does not look like a valid URI, trying to serialize this will break.\n"
     ]
    },
    {
     "name": "stderr",
     "output_type": "stream",
     "text": [
      "http://data2services/model/chromosome/7q34 alternate reference locus does not look like a valid URI, trying to serialize this will break.\n"
     ]
    },
    {
     "name": "stderr",
     "output_type": "stream",
     "text": [
      "http://data2services/model/chromosome/9q12 not on reference assembly does not look like a valid URI, trying to serialize this will break.\n"
     ]
    },
    {
     "name": "stderr",
     "output_type": "stream",
     "text": [
      "http://data2services/model/chromosome/9q21.11 not on reference assembly does not look like a valid URI, trying to serialize this will break.\n"
     ]
    },
    {
     "name": "stderr",
     "output_type": "stream",
     "text": [
      "http://data2services/model/chromosome/Xp11 not on reference assembly does not look like a valid URI, trying to serialize this will break.\n"
     ]
    },
    {
     "name": "stderr",
     "output_type": "stream",
     "text": [
      "http://data2services/model/chromosome/Xp11.23 not on reference assembly does not look like a valid URI, trying to serialize this will break.\n"
     ]
    },
    {
     "name": "stderr",
     "output_type": "stream",
     "text": [
      "http://data2services/model/chromosome/Xp11.4-p11.2 not on reference assembly does not look like a valid URI, trying to serialize this will break.\n"
     ]
    },
    {
     "name": "stderr",
     "output_type": "stream",
     "text": [
      "http://data2services/model/chromosome/Xp22.3 and Yp11.3 does not look like a valid URI, trying to serialize this will break.\n"
     ]
    },
    {
     "name": "stderr",
     "output_type": "stream",
     "text": [
      "http://data2services/model/chromosome/Xp22.3 and Yp13.3 does not look like a valid URI, trying to serialize this will break.\n"
     ]
    },
    {
     "name": "stderr",
     "output_type": "stream",
     "text": [
      "http://data2services/model/chromosome/Xp22.32 and Yp11 does not look like a valid URI, trying to serialize this will break.\n"
     ]
    },
    {
     "name": "stderr",
     "output_type": "stream",
     "text": [
      "http://data2services/model/chromosome/Xp22.32 and Yp11.3 does not look like a valid URI, trying to serialize this will break.\n"
     ]
    },
    {
     "name": "stderr",
     "output_type": "stream",
     "text": [
      "http://data2services/model/chromosome/Xp22.33 and Yp11 does not look like a valid URI, trying to serialize this will break.\n"
     ]
    },
    {
     "name": "stderr",
     "output_type": "stream",
     "text": [
      "http://data2services/model/chromosome/Xp22.33 and Yp11.2 does not look like a valid URI, trying to serialize this will break.\n"
     ]
    },
    {
     "name": "stderr",
     "output_type": "stream",
     "text": [
      "http://data2services/model/chromosome/Xp22.33 and Yp11.3 does not look like a valid URI, trying to serialize this will break.\n"
     ]
    },
    {
     "name": "stderr",
     "output_type": "stream",
     "text": [
      "http://data2services/model/chromosome/Xp22.33 and Yp11.31 does not look like a valid URI, trying to serialize this will break.\n"
     ]
    },
    {
     "name": "stderr",
     "output_type": "stream",
     "text": [
      "http://data2services/model/chromosome/Xp22.33 and Yp11.32 does not look like a valid URI, trying to serialize this will break.\n"
     ]
    },
    {
     "name": "stderr",
     "output_type": "stream",
     "text": [
      "http://data2services/model/chromosome/Xq28 and Yq12 does not look like a valid URI, trying to serialize this will break.\n"
     ]
    },
    {
     "name": "stderr",
     "output_type": "stream",
     "text": [
      "http://identifiers.org/hgnc id does not look like a valid URI, trying to serialize this will break.\n"
     ]
    },
    {
     "name": "stderr",
     "output_type": "stream",
     "text": [
      "https://data2services/model/gene-family/Gene Family Tag does not look like a valid URI, trying to serialize this will break.\n"
     ]
    },
    {
     "name": "stderr",
     "output_type": "stream",
     "text": [
      "http://identifiers.org/uniprot/UniProt ID (supplied by UniProt) does not look like a valid URI, trying to serialize this will break.\n"
     ]
    },
    {
     "name": "stderr",
     "output_type": "stream",
     "text": [
      "http://identifiers.org/hgnc id does not look like a valid URI, trying to serialize this will break.\n"
     ]
    },
    {
     "name": "stderr",
     "output_type": "stream",
     "text": [
      "http://identifiers.org/ccds/CCDS IDs does not look like a valid URI, trying to serialize this will break.\n"
     ]
    },
    {
     "name": "stderr",
     "output_type": "stream",
     "text": [
      "http://identifiers.org/pubmed/Pubmed IDs does not look like a valid URI, trying to serialize this will break.\n"
     ]
    },
    {
     "name": "stderr",
     "output_type": "stream",
     "text": [
      "https://www.ncbi.nlm.nih.gov/gene/Entrez Gene ID (supplied by NCBI) does not look like a valid URI, trying to serialize this will break.\n"
     ]
    },
    {
     "name": "stderr",
     "output_type": "stream",
     "text": [
      "http://identifiers.org/mim/OMIM ID (supplied by NCBI) does not look like a valid URI, trying to serialize this will break.\n"
     ]
    },
    {
     "name": "stderr",
     "output_type": "stream",
     "text": [
      "http://identifiers.org/ensembl/Ensembl ID (supplied by Ensembl) does not look like a valid URI, trying to serialize this will break.\n"
     ]
    },
    {
     "name": "stderr",
     "output_type": "stream",
     "text": [
      "https://www.ncbi.nlm.nih.gov/nuccore/Accession Numbers does not look like a valid URI, trying to serialize this will break.\n"
     ]
    },
    {
     "name": "stderr",
     "output_type": "stream",
     "text": [
      "http://identifiers.org/mim/312865, 400020 does not look like a valid URI, trying to serialize this will break.\n"
     ]
    },
    {
     "name": "stderr",
     "output_type": "stream",
     "text": [
      "http://identifiers.org/mim/300151, 403000 does not look like a valid URI, trying to serialize this will break.\n"
     ]
    },
    {
     "name": "stderr",
     "output_type": "stream",
     "text": [
      "http://identifiers.org/mim/314705, 489500 does not look like a valid URI, trying to serialize this will break.\n"
     ]
    },
    {
     "name": "stderr",
     "output_type": "stream",
     "text": [
      "http://identifiers.org/mim/300357, 400023 does not look like a valid URI, trying to serialize this will break.\n"
     ]
    },
    {
     "name": "stderr",
     "output_type": "stream",
     "text": [
      "http://identifiers.org/mim/300670, 300671 does not look like a valid URI, trying to serialize this will break.\n"
     ]
    },
    {
     "name": "stderr",
     "output_type": "stream",
     "text": [
      "http://identifiers.org/ensembl/<!--,--> <!--,--> <!--,--> <!--,--> <!--,--> <!--,--> <!--,--> <!--,--> <!--,--> <!--,--> <a href=\"http:/cancer.sanger.ac.uk/cosmic/gene/overview?ln=CCNH\">COSMIC</a><!--,--> <!--,--> <!--,--> <!--,--> <!--,--> <!--,--> <!--,-->  does not look like a valid URI, trying to serialize this will break.\n"
     ]
    },
    {
     "name": "stderr",
     "output_type": "stream",
     "text": [
      "http://identifiers.org/ensembl/<!--,--> <!--,--> <!--,--> <!--,--> <!--,--> <!--,--> <!--,--> <!--,--> <!--,--> <!--,--> <a href=\"http:/cancer.sanger.ac.uk/cosmic/gene/overview?ln=FBXO28\">COSMIC</a><!--,--> <a href=\"http://www.orpha.net/consor/cgi-bin/OC_Exp.php?Lng=GB&Expert=470322\">Orphanet</a><!--,--> <!--,--> <!--,--> <!--,--> <!--,--> <!--,-->  does not look like a valid URI, trying to serialize this will break.\n"
     ]
    },
    {
     "name": "stderr",
     "output_type": "stream",
     "text": [
      "http://identifiers.org/mim/312095, 465000 does not look like a valid URI, trying to serialize this will break.\n"
     ]
    },
    {
     "name": "stderr",
     "output_type": "stream",
     "text": [
      "http://identifiers.org/mim/610630, 610631 does not look like a valid URI, trying to serialize this will break.\n"
     ]
    },
    {
     "name": "stderr",
     "output_type": "stream",
     "text": [
      "http://identifiers.org/mim/306250, 425000 does not look like a valid URI, trying to serialize this will break.\n"
     ]
    },
    {
     "name": "stderr",
     "output_type": "stream",
     "text": [
      "http://identifiers.org/mim/300289, 300744, 300745 does not look like a valid URI, trying to serialize this will break.\n"
     ]
    },
    {
     "name": "stderr",
     "output_type": "stream",
     "text": [
      "http://identifiers.org/mim/610414, 614005 does not look like a valid URI, trying to serialize this will break.\n"
     ]
    },
    {
     "name": "stderr",
     "output_type": "stream",
     "text": [
      "http://identifiers.org/pubmed/12860994  does not look like a valid URI, trying to serialize this will break.\n"
     ]
    },
    {
     "name": "stderr",
     "output_type": "stream",
     "text": [
      "http://identifiers.org/mim/300742, 300743 does not look like a valid URI, trying to serialize this will break.\n"
     ]
    },
    {
     "name": "stderr",
     "output_type": "stream",
     "text": [
      "http://identifiers.org/mim/146910, 147010, 147070 does not look like a valid URI, trying to serialize this will break.\n"
     ]
    },
    {
     "name": "stderr",
     "output_type": "stream",
     "text": [
      "http://identifiers.org/mim/308385, 430000 does not look like a valid URI, trying to serialize this will break.\n"
     ]
    },
    {
     "name": "stderr",
     "output_type": "stream",
     "text": [
      "http://identifiers.org/mim/313470, 450000 does not look like a valid URI, trying to serialize this will break.\n"
     ]
    },
    {
     "name": "stderr",
     "output_type": "stream",
     "text": [
      "http://identifiers.org/mim/300015, 402500 does not look like a valid URI, trying to serialize this will break.\n"
     ]
    },
    {
     "name": "stderr",
     "output_type": "stream",
     "text": [
      "http://identifiers.org/mim/300162, 400011 does not look like a valid URI, trying to serialize this will break.\n"
     ]
    },
    {
     "name": "stderr",
     "output_type": "stream",
     "text": [
      "http://identifiers.org/pubmed/12860994  does not look like a valid URI, trying to serialize this will break.\n"
     ]
    },
    {
     "name": "stderr",
     "output_type": "stream",
     "text": [
      "http://identifiers.org/pubmed/12860994  does not look like a valid URI, trying to serialize this will break.\n"
     ]
    },
    {
     "name": "stderr",
     "output_type": "stream",
     "text": [
      "http://identifiers.org/pubmed/Pubmed IDs does not look like a valid URI, trying to serialize this will break.\n"
     ]
    },
    {
     "name": "stderr",
     "output_type": "stream",
     "text": [
      "http://identifiers.org/pubmed/Pubmed IDs does not look like a valid URI, trying to serialize this will break.\n"
     ]
    },
    {
     "name": "stderr",
     "output_type": "stream",
     "text": [
      "http://identifiers.org/hgnc id does not look like a valid URI, trying to serialize this will break.\n"
     ]
    },
    {
     "name": "stderr",
     "output_type": "stream",
     "text": [
      "https://data2services/model/gene-family/Gene Family Tag does not look like a valid URI, trying to serialize this will break.\n"
     ]
    },
    {
     "name": "stderr",
     "output_type": "stream",
     "text": [
      "https://www.ncbi.nlm.nih.gov/nuccore/RefSeq (supplied by NCBI) does not look like a valid URI, trying to serialize this will break.\n"
     ]
    },
    {
     "name": "stderr",
     "output_type": "stream",
     "text": [
      "https://www.ncbi.nlm.nih.gov/nuccore/RefSeq IDs does not look like a valid URI, trying to serialize this will break.\n"
     ]
    }
   ],
   "source": [
    "from rdflib import Graph\n",
    "\n",
    "g = Graph()\n",
    "g.load('tests/source/biolink-hgnc.jsonld', format='json-ld')"
   ]
  },
  {
   "cell_type": "code",
   "execution_count": 7,
   "metadata": {},
   "outputs": [
    {
     "name": "stderr",
     "output_type": "stream",
     "text": [
      "http://data2services/model/chromosome/Xp22.32 and Yp11.3 does not look like a valid URI, trying to serialize this will break.\n"
     ]
    },
    {
     "name": "stderr",
     "output_type": "stream",
     "text": [
      "http://data2services/model/chromosome/9q12 not on reference assembly does not look like a valid URI, trying to serialize this will break.\n"
     ]
    },
    {
     "name": "stderr",
     "output_type": "stream",
     "text": [
      "http://data2services/model/chromosome/Xp22.33 and Yp11.31 does not look like a valid URI, trying to serialize this will break.\n"
     ]
    },
    {
     "name": "stderr",
     "output_type": "stream",
     "text": [
      "http://data2services/model/chromosome/13p12 not on reference assembly does not look like a valid URI, trying to serialize this will break.\n"
     ]
    },
    {
     "name": "stderr",
     "output_type": "stream",
     "text": [
      "http://data2services/model/chromosome/14q32.33 not on reference assembly does not look like a valid URI, trying to serialize this will break.\n"
     ]
    },
    {
     "name": "stderr",
     "output_type": "stream",
     "text": [
      "http://data2services/model/chromosome/14p12 not on reference assembly does not look like a valid URI, trying to serialize this will break.\n"
     ]
    },
    {
     "name": "stderr",
     "output_type": "stream",
     "text": [
      "http://data2services/model/chromosome/10p11.2 or 17q25 does not look like a valid URI, trying to serialize this will break.\n"
     ]
    },
    {
     "name": "stderr",
     "output_type": "stream",
     "text": [
      "http://data2services/model/chromosome/19q13.4 alternate reference locus does not look like a valid URI, trying to serialize this will break.\n"
     ]
    },
    {
     "name": "stderr",
     "output_type": "stream",
     "text": [
      "http://identifiers.org/pubmed/12860994  does not look like a valid URI, trying to serialize this will break.\n"
     ]
    },
    {
     "name": "stderr",
     "output_type": "stream",
     "text": [
      "http://data2services/model/chromosome/22q11.23 alternate reference locus does not look like a valid URI, trying to serialize this will break.\n"
     ]
    },
    {
     "name": "stderr",
     "output_type": "stream",
     "text": [
      "http://data2services/model/chromosome/1q41 not on reference assembly does not look like a valid URI, trying to serialize this will break.\n"
     ]
    },
    {
     "name": "stderr",
     "output_type": "stream",
     "text": [
      "http://data2services/model/chromosome/22q11.2 alternate reference locus does not look like a valid URI, trying to serialize this will break.\n"
     ]
    },
    {
     "name": "stderr",
     "output_type": "stream",
     "text": [
      "http://data2services/model/chromosome/14 unplaced does not look like a valid URI, trying to serialize this will break.\n"
     ]
    },
    {
     "name": "stderr",
     "output_type": "stream",
     "text": [
      "http://data2services/model/chromosome/15q25.2 alternate reference locus does not look like a valid URI, trying to serialize this will break.\n"
     ]
    },
    {
     "name": "stderr",
     "output_type": "stream",
     "text": [
      "http://data2services/model/chromosome/22 unplaced does not look like a valid URI, trying to serialize this will break.\n"
     ]
    },
    {
     "name": "stderr",
     "output_type": "stream",
     "text": [
      "http://data2services/model/chromosome/Xq28 and Yq12 does not look like a valid URI, trying to serialize this will break.\n"
     ]
    },
    {
     "name": "stderr",
     "output_type": "stream",
     "text": [
      "http://data2services/model/chromosome/7q34 alternate reference locus does not look like a valid URI, trying to serialize this will break.\n"
     ]
    },
    {
     "name": "stderr",
     "output_type": "stream",
     "text": [
      "http://data2services/model/chromosome/10q23.3 or 10q24.2 does not look like a valid URI, trying to serialize this will break.\n"
     ]
    },
    {
     "name": "stderr",
     "output_type": "stream",
     "text": [
      "http://identifiers.org/hgnc id does not look like a valid URI, trying to serialize this will break.\n"
     ]
    },
    {
     "name": "stderr",
     "output_type": "stream",
     "text": [
      "http://data2services/model/chromosome/Xp22.33 and Yp11.32 does not look like a valid URI, trying to serialize this will break.\n"
     ]
    },
    {
     "name": "stderr",
     "output_type": "stream",
     "text": [
      "http://data2services/model/chromosome/21p11.1 not on reference assembly does not look like a valid URI, trying to serialize this will break.\n"
     ]
    },
    {
     "name": "stderr",
     "output_type": "stream",
     "text": [
      "http://data2services/model/chromosome/10q11.22 not on reference assembly does not look like a valid URI, trying to serialize this will break.\n"
     ]
    },
    {
     "name": "stderr",
     "output_type": "stream",
     "text": [
      "http://data2services/model/chromosome/15p12 not on reference assembly does not look like a valid URI, trying to serialize this will break.\n"
     ]
    },
    {
     "name": "stderr",
     "output_type": "stream",
     "text": [
      "http://data2services/model/chromosome/7q22 not on reference assembly does not look like a valid URI, trying to serialize this will break.\n"
     ]
    },
    {
     "name": "stderr",
     "output_type": "stream",
     "text": [
      "http://data2services/model/chromosome/21p12 not on reference assembly does not look like a valid URI, trying to serialize this will break.\n"
     ]
    },
    {
     "name": "stderr",
     "output_type": "stream",
     "text": [
      "http://data2services/model/chromosome/21p11.2 not on reference assembly does not look like a valid URI, trying to serialize this will break.\n"
     ]
    },
    {
     "name": "stderr",
     "output_type": "stream",
     "text": [
      "http://data2services/model/chromosome/22p12 not on reference assembly does not look like a valid URI, trying to serialize this will break.\n"
     ]
    },
    {
     "name": "stderr",
     "output_type": "stream",
     "text": [
      "http://data2services/model/chromosome/6p21.3 alternate reference locus does not look like a valid URI, trying to serialize this will break.\n"
     ]
    },
    {
     "name": "stderr",
     "output_type": "stream",
     "text": [
      "http://data2services/model/chromosome/15q11.2 not on reference assembly does not look like a valid URI, trying to serialize this will break.\n"
     ]
    },
    {
     "name": "stderr",
     "output_type": "stream",
     "text": [
      "http://data2services/model/chromosome/11q1 alternate reference locus does not look like a valid URI, trying to serialize this will break.\n"
     ]
    },
    {
     "name": "stderr",
     "output_type": "stream",
     "text": [
      "http://data2services/model/chromosome/13cen, GRCh38 novel patch does not look like a valid URI, trying to serialize this will break.\n"
     ]
    },
    {
     "name": "stderr",
     "output_type": "stream",
     "text": [
      "http://data2services/model/chromosome/Xp22.3 and Yp11.3 does not look like a valid URI, trying to serialize this will break.\n"
     ]
    },
    {
     "name": "stderr",
     "output_type": "stream",
     "text": [
      "http://data2services/model/chromosome/Xp11.23 not on reference assembly does not look like a valid URI, trying to serialize this will break.\n"
     ]
    },
    {
     "name": "stderr",
     "output_type": "stream",
     "text": [
      "http://data2services/model/chromosome/Xp11.4-p11.2 not on reference assembly does not look like a valid URI, trying to serialize this will break.\n"
     ]
    },
    {
     "name": "stderr",
     "output_type": "stream",
     "text": [
      "http://data2services/model/chromosome/Xp22.33 and Yp11 does not look like a valid URI, trying to serialize this will break.\n"
     ]
    },
    {
     "name": "stderr",
     "output_type": "stream",
     "text": [
      "http://data2services/model/chromosome/3p14.2 not on reference assembly does not look like a valid URI, trying to serialize this will break.\n"
     ]
    },
    {
     "name": "stderr",
     "output_type": "stream",
     "text": [
      "http://data2services/model/chromosome/15 not on reference assembly does not look like a valid URI, trying to serialize this will break.\n"
     ]
    },
    {
     "name": "stderr",
     "output_type": "stream",
     "text": [
      "http://data2services/model/chromosome/Xp11 not on reference assembly does not look like a valid URI, trying to serialize this will break.\n"
     ]
    },
    {
     "name": "stderr",
     "output_type": "stream",
     "text": [
      "http://data2services/model/chromosome/12 alternate reference locus does not look like a valid URI, trying to serialize this will break.\n"
     ]
    },
    {
     "name": "stderr",
     "output_type": "stream",
     "text": [
      "http://data2services/model/chromosome/2p21 not on reference assembly does not look like a valid URI, trying to serialize this will break.\n"
     ]
    },
    {
     "name": "stderr",
     "output_type": "stream",
     "text": [
      "http://data2services/model/chromosome/5q13.2 alternate reference locus does not look like a valid URI, trying to serialize this will break.\n"
     ]
    },
    {
     "name": "stderr",
     "output_type": "stream",
     "text": [
      "http://data2services/model/chromosome/1 not on reference assembly does not look like a valid URI, trying to serialize this will break.\n"
     ]
    },
    {
     "name": "stderr",
     "output_type": "stream",
     "text": [
      "http://data2services/model/chromosome/17q12 alternate reference locus does not look like a valid URI, trying to serialize this will break.\n"
     ]
    },
    {
     "name": "stderr",
     "output_type": "stream",
     "text": [
      "http://data2services/model/chromosome/9q21.11 not on reference assembly does not look like a valid URI, trying to serialize this will break.\n"
     ]
    },
    {
     "name": "stderr",
     "output_type": "stream",
     "text": [
      "http://data2services/model/chromosome/11q11 alternate reference locus does not look like a valid URI, trying to serialize this will break.\n"
     ]
    },
    {
     "name": "stderr",
     "output_type": "stream",
     "text": [
      "http://data2services/model/chromosome/Xp22.33 and Yp11.3 does not look like a valid URI, trying to serialize this will break.\n"
     ]
    },
    {
     "name": "stderr",
     "output_type": "stream",
     "text": [
      "http://data2services/model/chromosome/6p21 alternate reference locus does not look like a valid URI, trying to serialize this will break.\n"
     ]
    },
    {
     "name": "stderr",
     "output_type": "stream",
     "text": [
      "http://data2services/model/chromosome/22q13 alternate reference locus does not look like a valid URI, trying to serialize this will break.\n"
     ]
    },
    {
     "name": "stderr",
     "output_type": "stream",
     "text": [
      "http://data2services/model/chromosome/1p36.21 alternate reference locus does not look like a valid URI, trying to serialize this will break.\n"
     ]
    },
    {
     "name": "stderr",
     "output_type": "stream",
     "text": [
      "http://data2services/model/chromosome/Xp22.33 and Yp11.2 does not look like a valid URI, trying to serialize this will break.\n"
     ]
    },
    {
     "name": "stderr",
     "output_type": "stream",
     "text": [
      "http://data2services/model/chromosome/1q21.2 not on reference assembly does not look like a valid URI, trying to serialize this will break.\n"
     ]
    },
    {
     "name": "stderr",
     "output_type": "stream",
     "text": [
      "http://data2services/model/chromosome/Xp22.3 and Yp13.3 does not look like a valid URI, trying to serialize this will break.\n"
     ]
    },
    {
     "name": "stderr",
     "output_type": "stream",
     "text": [
      "http://data2services/model/chromosome/Xp22.32 and Yp11 does not look like a valid URI, trying to serialize this will break.\n"
     ]
    },
    {
     "name": "stderr",
     "output_type": "stream",
     "text": [
      "http://identifiers.org/hgnc id does not look like a valid URI, trying to serialize this will break.\n"
     ]
    },
    {
     "name": "stderr",
     "output_type": "stream",
     "text": [
      "http://data2services/model/chromosome/Xp22.32 and Yp11.3 does not look like a valid URI, trying to serialize this will break.\n"
     ]
    },
    {
     "name": "stderr",
     "output_type": "stream",
     "text": [
      "http://data2services/model/chromosome/9q12 not on reference assembly does not look like a valid URI, trying to serialize this will break.\n"
     ]
    },
    {
     "name": "stderr",
     "output_type": "stream",
     "text": [
      "http://data2services/model/chromosome/Xp22.33 and Yp11.31 does not look like a valid URI, trying to serialize this will break.\n"
     ]
    },
    {
     "name": "stderr",
     "output_type": "stream",
     "text": [
      "http://data2services/model/chromosome/13p12 not on reference assembly does not look like a valid URI, trying to serialize this will break.\n"
     ]
    },
    {
     "name": "stderr",
     "output_type": "stream",
     "text": [
      "http://data2services/model/chromosome/14q32.33 not on reference assembly does not look like a valid URI, trying to serialize this will break.\n"
     ]
    },
    {
     "name": "stderr",
     "output_type": "stream",
     "text": [
      "http://data2services/model/chromosome/14p12 not on reference assembly does not look like a valid URI, trying to serialize this will break.\n"
     ]
    },
    {
     "name": "stderr",
     "output_type": "stream",
     "text": [
      "http://data2services/model/chromosome/10p11.2 or 17q25 does not look like a valid URI, trying to serialize this will break.\n"
     ]
    },
    {
     "name": "stderr",
     "output_type": "stream",
     "text": [
      "http://data2services/model/chromosome/19q13.4 alternate reference locus does not look like a valid URI, trying to serialize this will break.\n"
     ]
    },
    {
     "name": "stderr",
     "output_type": "stream",
     "text": [
      "http://data2services/model/chromosome/22q11.23 alternate reference locus does not look like a valid URI, trying to serialize this will break.\n"
     ]
    },
    {
     "name": "stderr",
     "output_type": "stream",
     "text": [
      "http://data2services/model/chromosome/1q41 not on reference assembly does not look like a valid URI, trying to serialize this will break.\n"
     ]
    },
    {
     "name": "stderr",
     "output_type": "stream",
     "text": [
      "http://data2services/model/chromosome/22q11.2 alternate reference locus does not look like a valid URI, trying to serialize this will break.\n"
     ]
    },
    {
     "name": "stderr",
     "output_type": "stream",
     "text": [
      "http://data2services/model/chromosome/14 unplaced does not look like a valid URI, trying to serialize this will break.\n"
     ]
    },
    {
     "name": "stderr",
     "output_type": "stream",
     "text": [
      "http://data2services/model/chromosome/15q25.2 alternate reference locus does not look like a valid URI, trying to serialize this will break.\n"
     ]
    },
    {
     "name": "stderr",
     "output_type": "stream",
     "text": [
      "http://data2services/model/chromosome/22 unplaced does not look like a valid URI, trying to serialize this will break.\n"
     ]
    },
    {
     "name": "stderr",
     "output_type": "stream",
     "text": [
      "http://data2services/model/chromosome/Xq28 and Yq12 does not look like a valid URI, trying to serialize this will break.\n"
     ]
    },
    {
     "name": "stderr",
     "output_type": "stream",
     "text": [
      "http://data2services/model/chromosome/7q34 alternate reference locus does not look like a valid URI, trying to serialize this will break.\n"
     ]
    },
    {
     "name": "stderr",
     "output_type": "stream",
     "text": [
      "http://data2services/model/chromosome/10q23.3 or 10q24.2 does not look like a valid URI, trying to serialize this will break.\n"
     ]
    },
    {
     "name": "stderr",
     "output_type": "stream",
     "text": [
      "http://identifiers.org/hgnc id does not look like a valid URI, trying to serialize this will break.\n"
     ]
    },
    {
     "name": "stderr",
     "output_type": "stream",
     "text": [
      "http://data2services/model/chromosome/Xp22.33 and Yp11.32 does not look like a valid URI, trying to serialize this will break.\n"
     ]
    },
    {
     "name": "stderr",
     "output_type": "stream",
     "text": [
      "http://data2services/model/chromosome/21p11.1 not on reference assembly does not look like a valid URI, trying to serialize this will break.\n"
     ]
    },
    {
     "name": "stderr",
     "output_type": "stream",
     "text": [
      "http://data2services/model/chromosome/10q11.22 not on reference assembly does not look like a valid URI, trying to serialize this will break.\n"
     ]
    },
    {
     "name": "stderr",
     "output_type": "stream",
     "text": [
      "http://data2services/model/chromosome/15p12 not on reference assembly does not look like a valid URI, trying to serialize this will break.\n"
     ]
    },
    {
     "name": "stderr",
     "output_type": "stream",
     "text": [
      "http://data2services/model/chromosome/7q22 not on reference assembly does not look like a valid URI, trying to serialize this will break.\n"
     ]
    },
    {
     "name": "stderr",
     "output_type": "stream",
     "text": [
      "http://data2services/model/chromosome/21p12 not on reference assembly does not look like a valid URI, trying to serialize this will break.\n"
     ]
    },
    {
     "name": "stderr",
     "output_type": "stream",
     "text": [
      "http://data2services/model/chromosome/21p11.2 not on reference assembly does not look like a valid URI, trying to serialize this will break.\n"
     ]
    },
    {
     "name": "stderr",
     "output_type": "stream",
     "text": [
      "http://data2services/model/chromosome/22p12 not on reference assembly does not look like a valid URI, trying to serialize this will break.\n"
     ]
    },
    {
     "name": "stderr",
     "output_type": "stream",
     "text": [
      "http://data2services/model/chromosome/6p21.3 alternate reference locus does not look like a valid URI, trying to serialize this will break.\n"
     ]
    },
    {
     "name": "stderr",
     "output_type": "stream",
     "text": [
      "http://data2services/model/chromosome/15q11.2 not on reference assembly does not look like a valid URI, trying to serialize this will break.\n"
     ]
    },
    {
     "name": "stderr",
     "output_type": "stream",
     "text": [
      "http://data2services/model/chromosome/11q1 alternate reference locus does not look like a valid URI, trying to serialize this will break.\n"
     ]
    },
    {
     "name": "stderr",
     "output_type": "stream",
     "text": [
      "http://data2services/model/chromosome/13cen, GRCh38 novel patch does not look like a valid URI, trying to serialize this will break.\n"
     ]
    },
    {
     "name": "stderr",
     "output_type": "stream",
     "text": [
      "http://data2services/model/chromosome/Xp22.3 and Yp11.3 does not look like a valid URI, trying to serialize this will break.\n"
     ]
    },
    {
     "name": "stderr",
     "output_type": "stream",
     "text": [
      "http://data2services/model/chromosome/Xp11.23 not on reference assembly does not look like a valid URI, trying to serialize this will break.\n"
     ]
    },
    {
     "name": "stderr",
     "output_type": "stream",
     "text": [
      "http://data2services/model/chromosome/Xp11.4-p11.2 not on reference assembly does not look like a valid URI, trying to serialize this will break.\n"
     ]
    },
    {
     "name": "stderr",
     "output_type": "stream",
     "text": [
      "http://data2services/model/chromosome/Xp22.33 and Yp11 does not look like a valid URI, trying to serialize this will break.\n"
     ]
    },
    {
     "name": "stderr",
     "output_type": "stream",
     "text": [
      "http://data2services/model/chromosome/3p14.2 not on reference assembly does not look like a valid URI, trying to serialize this will break.\n"
     ]
    },
    {
     "name": "stderr",
     "output_type": "stream",
     "text": [
      "http://data2services/model/chromosome/15 not on reference assembly does not look like a valid URI, trying to serialize this will break.\n"
     ]
    },
    {
     "name": "stderr",
     "output_type": "stream",
     "text": [
      "http://data2services/model/chromosome/Xp11 not on reference assembly does not look like a valid URI, trying to serialize this will break.\n"
     ]
    },
    {
     "name": "stderr",
     "output_type": "stream",
     "text": [
      "http://data2services/model/chromosome/12 alternate reference locus does not look like a valid URI, trying to serialize this will break.\n"
     ]
    },
    {
     "name": "stderr",
     "output_type": "stream",
     "text": [
      "http://data2services/model/chromosome/2p21 not on reference assembly does not look like a valid URI, trying to serialize this will break.\n"
     ]
    },
    {
     "name": "stderr",
     "output_type": "stream",
     "text": [
      "http://data2services/model/chromosome/5q13.2 alternate reference locus does not look like a valid URI, trying to serialize this will break.\n"
     ]
    },
    {
     "name": "stderr",
     "output_type": "stream",
     "text": [
      "http://data2services/model/chromosome/1 not on reference assembly does not look like a valid URI, trying to serialize this will break.\n"
     ]
    },
    {
     "name": "stderr",
     "output_type": "stream",
     "text": [
      "http://data2services/model/chromosome/17q12 alternate reference locus does not look like a valid URI, trying to serialize this will break.\n"
     ]
    },
    {
     "name": "stderr",
     "output_type": "stream",
     "text": [
      "http://data2services/model/chromosome/9q21.11 not on reference assembly does not look like a valid URI, trying to serialize this will break.\n"
     ]
    },
    {
     "name": "stderr",
     "output_type": "stream",
     "text": [
      "http://data2services/model/chromosome/11q11 alternate reference locus does not look like a valid URI, trying to serialize this will break.\n"
     ]
    },
    {
     "name": "stderr",
     "output_type": "stream",
     "text": [
      "http://data2services/model/chromosome/Xp22.33 and Yp11.3 does not look like a valid URI, trying to serialize this will break.\n"
     ]
    },
    {
     "name": "stderr",
     "output_type": "stream",
     "text": [
      "http://data2services/model/chromosome/6p21 alternate reference locus does not look like a valid URI, trying to serialize this will break.\n"
     ]
    },
    {
     "name": "stderr",
     "output_type": "stream",
     "text": [
      "http://data2services/model/chromosome/22q13 alternate reference locus does not look like a valid URI, trying to serialize this will break.\n"
     ]
    },
    {
     "name": "stderr",
     "output_type": "stream",
     "text": [
      "http://data2services/model/chromosome/1p36.21 alternate reference locus does not look like a valid URI, trying to serialize this will break.\n"
     ]
    },
    {
     "name": "stderr",
     "output_type": "stream",
     "text": [
      "http://data2services/model/chromosome/Xp22.33 and Yp11.2 does not look like a valid URI, trying to serialize this will break.\n"
     ]
    },
    {
     "name": "stderr",
     "output_type": "stream",
     "text": [
      "http://data2services/model/chromosome/1q21.2 not on reference assembly does not look like a valid URI, trying to serialize this will break.\n"
     ]
    },
    {
     "name": "stderr",
     "output_type": "stream",
     "text": [
      "http://data2services/model/chromosome/Xp22.3 and Yp13.3 does not look like a valid URI, trying to serialize this will break.\n"
     ]
    },
    {
     "name": "stderr",
     "output_type": "stream",
     "text": [
      "http://data2services/model/chromosome/Xp22.32 and Yp11 does not look like a valid URI, trying to serialize this will break.\n"
     ]
    },
    {
     "name": "stderr",
     "output_type": "stream",
     "text": [
      "http://data2services/model/chromosome/Xp22.32 and Yp11.3 does not look like a valid URI, trying to serialize this will break.\n"
     ]
    },
    {
     "name": "stderr",
     "output_type": "stream",
     "text": [
      "http://data2services/model/chromosome/9q12 not on reference assembly does not look like a valid URI, trying to serialize this will break.\n"
     ]
    },
    {
     "name": "stderr",
     "output_type": "stream",
     "text": [
      "http://data2services/model/chromosome/Xp22.33 and Yp11.31 does not look like a valid URI, trying to serialize this will break.\n"
     ]
    },
    {
     "name": "stderr",
     "output_type": "stream",
     "text": [
      "http://data2services/model/chromosome/13p12 not on reference assembly does not look like a valid URI, trying to serialize this will break.\n"
     ]
    },
    {
     "name": "stderr",
     "output_type": "stream",
     "text": [
      "http://data2services/model/chromosome/14q32.33 not on reference assembly does not look like a valid URI, trying to serialize this will break.\n"
     ]
    },
    {
     "name": "stderr",
     "output_type": "stream",
     "text": [
      "http://data2services/model/chromosome/14p12 not on reference assembly does not look like a valid URI, trying to serialize this will break.\n"
     ]
    },
    {
     "name": "stderr",
     "output_type": "stream",
     "text": [
      "http://data2services/model/chromosome/10p11.2 or 17q25 does not look like a valid URI, trying to serialize this will break.\n"
     ]
    },
    {
     "name": "stderr",
     "output_type": "stream",
     "text": [
      "http://data2services/model/chromosome/19q13.4 alternate reference locus does not look like a valid URI, trying to serialize this will break.\n"
     ]
    },
    {
     "name": "stderr",
     "output_type": "stream",
     "text": [
      "http://identifiers.org/pubmed/12860994  does not look like a valid URI, trying to serialize this will break.\n"
     ]
    },
    {
     "name": "stderr",
     "output_type": "stream",
     "text": [
      "http://data2services/model/chromosome/22q11.23 alternate reference locus does not look like a valid URI, trying to serialize this will break.\n"
     ]
    },
    {
     "name": "stderr",
     "output_type": "stream",
     "text": [
      "http://data2services/model/chromosome/1q41 not on reference assembly does not look like a valid URI, trying to serialize this will break.\n"
     ]
    },
    {
     "name": "stderr",
     "output_type": "stream",
     "text": [
      "http://data2services/model/chromosome/22q11.2 alternate reference locus does not look like a valid URI, trying to serialize this will break.\n"
     ]
    },
    {
     "name": "stderr",
     "output_type": "stream",
     "text": [
      "http://data2services/model/chromosome/14 unplaced does not look like a valid URI, trying to serialize this will break.\n"
     ]
    },
    {
     "name": "stderr",
     "output_type": "stream",
     "text": [
      "http://data2services/model/chromosome/15q25.2 alternate reference locus does not look like a valid URI, trying to serialize this will break.\n"
     ]
    },
    {
     "name": "stderr",
     "output_type": "stream",
     "text": [
      "http://data2services/model/chromosome/22 unplaced does not look like a valid URI, trying to serialize this will break.\n"
     ]
    },
    {
     "name": "stderr",
     "output_type": "stream",
     "text": [
      "http://data2services/model/chromosome/Xq28 and Yq12 does not look like a valid URI, trying to serialize this will break.\n"
     ]
    },
    {
     "name": "stderr",
     "output_type": "stream",
     "text": [
      "http://data2services/model/chromosome/7q34 alternate reference locus does not look like a valid URI, trying to serialize this will break.\n"
     ]
    },
    {
     "name": "stderr",
     "output_type": "stream",
     "text": [
      "http://data2services/model/chromosome/10q23.3 or 10q24.2 does not look like a valid URI, trying to serialize this will break.\n"
     ]
    },
    {
     "name": "stderr",
     "output_type": "stream",
     "text": [
      "http://identifiers.org/hgnc id does not look like a valid URI, trying to serialize this will break.\n"
     ]
    },
    {
     "name": "stderr",
     "output_type": "stream",
     "text": [
      "http://data2services/model/chromosome/Xp22.33 and Yp11.32 does not look like a valid URI, trying to serialize this will break.\n"
     ]
    },
    {
     "name": "stderr",
     "output_type": "stream",
     "text": [
      "http://data2services/model/chromosome/21p11.1 not on reference assembly does not look like a valid URI, trying to serialize this will break.\n"
     ]
    },
    {
     "name": "stderr",
     "output_type": "stream",
     "text": [
      "http://data2services/model/chromosome/10q11.22 not on reference assembly does not look like a valid URI, trying to serialize this will break.\n"
     ]
    },
    {
     "name": "stderr",
     "output_type": "stream",
     "text": [
      "http://data2services/model/chromosome/15p12 not on reference assembly does not look like a valid URI, trying to serialize this will break.\n"
     ]
    },
    {
     "name": "stderr",
     "output_type": "stream",
     "text": [
      "http://data2services/model/chromosome/7q22 not on reference assembly does not look like a valid URI, trying to serialize this will break.\n"
     ]
    },
    {
     "name": "stderr",
     "output_type": "stream",
     "text": [
      "http://data2services/model/chromosome/21p12 not on reference assembly does not look like a valid URI, trying to serialize this will break.\n"
     ]
    },
    {
     "name": "stderr",
     "output_type": "stream",
     "text": [
      "http://data2services/model/chromosome/21p11.2 not on reference assembly does not look like a valid URI, trying to serialize this will break.\n"
     ]
    },
    {
     "name": "stderr",
     "output_type": "stream",
     "text": [
      "http://data2services/model/chromosome/22p12 not on reference assembly does not look like a valid URI, trying to serialize this will break.\n"
     ]
    },
    {
     "name": "stderr",
     "output_type": "stream",
     "text": [
      "http://data2services/model/chromosome/6p21.3 alternate reference locus does not look like a valid URI, trying to serialize this will break.\n"
     ]
    },
    {
     "name": "stderr",
     "output_type": "stream",
     "text": [
      "http://data2services/model/chromosome/15q11.2 not on reference assembly does not look like a valid URI, trying to serialize this will break.\n"
     ]
    },
    {
     "name": "stderr",
     "output_type": "stream",
     "text": [
      "http://data2services/model/chromosome/11q1 alternate reference locus does not look like a valid URI, trying to serialize this will break.\n"
     ]
    },
    {
     "name": "stderr",
     "output_type": "stream",
     "text": [
      "http://data2services/model/chromosome/13cen, GRCh38 novel patch does not look like a valid URI, trying to serialize this will break.\n"
     ]
    },
    {
     "name": "stderr",
     "output_type": "stream",
     "text": [
      "http://data2services/model/chromosome/Xp22.3 and Yp11.3 does not look like a valid URI, trying to serialize this will break.\n"
     ]
    },
    {
     "name": "stderr",
     "output_type": "stream",
     "text": [
      "http://data2services/model/chromosome/Xp11.23 not on reference assembly does not look like a valid URI, trying to serialize this will break.\n"
     ]
    },
    {
     "name": "stderr",
     "output_type": "stream",
     "text": [
      "http://data2services/model/chromosome/Xp11.4-p11.2 not on reference assembly does not look like a valid URI, trying to serialize this will break.\n"
     ]
    },
    {
     "name": "stderr",
     "output_type": "stream",
     "text": [
      "http://data2services/model/chromosome/Xp22.33 and Yp11 does not look like a valid URI, trying to serialize this will break.\n"
     ]
    },
    {
     "name": "stderr",
     "output_type": "stream",
     "text": [
      "http://data2services/model/chromosome/3p14.2 not on reference assembly does not look like a valid URI, trying to serialize this will break.\n"
     ]
    },
    {
     "name": "stderr",
     "output_type": "stream",
     "text": [
      "http://data2services/model/chromosome/15 not on reference assembly does not look like a valid URI, trying to serialize this will break.\n"
     ]
    },
    {
     "name": "stderr",
     "output_type": "stream",
     "text": [
      "http://data2services/model/chromosome/Xp11 not on reference assembly does not look like a valid URI, trying to serialize this will break.\n"
     ]
    },
    {
     "name": "stderr",
     "output_type": "stream",
     "text": [
      "http://data2services/model/chromosome/12 alternate reference locus does not look like a valid URI, trying to serialize this will break.\n"
     ]
    },
    {
     "name": "stderr",
     "output_type": "stream",
     "text": [
      "http://data2services/model/chromosome/2p21 not on reference assembly does not look like a valid URI, trying to serialize this will break.\n"
     ]
    },
    {
     "name": "stderr",
     "output_type": "stream",
     "text": [
      "http://data2services/model/chromosome/5q13.2 alternate reference locus does not look like a valid URI, trying to serialize this will break.\n"
     ]
    },
    {
     "name": "stderr",
     "output_type": "stream",
     "text": [
      "http://data2services/model/chromosome/1 not on reference assembly does not look like a valid URI, trying to serialize this will break.\n"
     ]
    },
    {
     "name": "stderr",
     "output_type": "stream",
     "text": [
      "http://data2services/model/chromosome/17q12 alternate reference locus does not look like a valid URI, trying to serialize this will break.\n"
     ]
    },
    {
     "name": "stderr",
     "output_type": "stream",
     "text": [
      "http://data2services/model/chromosome/9q21.11 not on reference assembly does not look like a valid URI, trying to serialize this will break.\n"
     ]
    },
    {
     "name": "stderr",
     "output_type": "stream",
     "text": [
      "http://data2services/model/chromosome/11q11 alternate reference locus does not look like a valid URI, trying to serialize this will break.\n"
     ]
    },
    {
     "name": "stderr",
     "output_type": "stream",
     "text": [
      "http://data2services/model/chromosome/Xp22.33 and Yp11.3 does not look like a valid URI, trying to serialize this will break.\n"
     ]
    },
    {
     "name": "stderr",
     "output_type": "stream",
     "text": [
      "http://data2services/model/chromosome/6p21 alternate reference locus does not look like a valid URI, trying to serialize this will break.\n"
     ]
    },
    {
     "name": "stderr",
     "output_type": "stream",
     "text": [
      "http://data2services/model/chromosome/22q13 alternate reference locus does not look like a valid URI, trying to serialize this will break.\n"
     ]
    },
    {
     "name": "stderr",
     "output_type": "stream",
     "text": [
      "http://data2services/model/chromosome/1p36.21 alternate reference locus does not look like a valid URI, trying to serialize this will break.\n"
     ]
    },
    {
     "name": "stderr",
     "output_type": "stream",
     "text": [
      "http://data2services/model/chromosome/Xp22.33 and Yp11.2 does not look like a valid URI, trying to serialize this will break.\n"
     ]
    },
    {
     "name": "stderr",
     "output_type": "stream",
     "text": [
      "http://data2services/model/chromosome/1q21.2 not on reference assembly does not look like a valid URI, trying to serialize this will break.\n"
     ]
    },
    {
     "name": "stderr",
     "output_type": "stream",
     "text": [
      "http://data2services/model/chromosome/Xp22.3 and Yp13.3 does not look like a valid URI, trying to serialize this will break.\n"
     ]
    },
    {
     "name": "stderr",
     "output_type": "stream",
     "text": [
      "http://data2services/model/chromosome/Xp22.32 and Yp11 does not look like a valid URI, trying to serialize this will break.\n"
     ]
    },
    {
     "name": "stderr",
     "output_type": "stream",
     "text": [
      "http://identifiers.org/hgnc id does not look like a valid URI, trying to serialize this will break.\n"
     ]
    },
    {
     "name": "stderr",
     "output_type": "stream",
     "text": [
      "http://identifiers.org/mgi/1277180, MGI:1916390, MGI:1924183 does not look like a valid URI, trying to serialize this will break.\n"
     ]
    },
    {
     "name": "stderr",
     "output_type": "stream",
     "text": [
      "http://identifiers.org/mgi/1914714, MGI:5435040 does not look like a valid URI, trying to serialize this will break.\n"
     ]
    },
    {
     "name": "stderr",
     "output_type": "stream",
     "text": [
      "http://identifiers.org/mgi/96097, MGI:2448283 does not look like a valid URI, trying to serialize this will break.\n"
     ]
    },
    {
     "name": "stderr",
     "output_type": "stream",
     "text": [
      "http://identifiers.org/mgi/3030096, MGI:3031271 does not look like a valid URI, trying to serialize this will break.\n"
     ]
    },
    {
     "name": "stderr",
     "output_type": "stream",
     "text": [
      "http://identifiers.org/mgi/96233, MGI:96234, MGI:96235, MGI:96236, MGI:104645, MGI:109598, MGI:3711284, MGI:3782634 does not look like a valid URI, trying to serialize this will break.\n"
     ]
    },
    {
     "ename": "BadSyntax",
     "evalue": "at line 500594 of <>:\nBad syntax (objectList expected) at ^ in:\n\"...b'_001199779> .\\n\\n<http://identifiers.org/hgnc:5180> bl:same_as'^b' <http://identifiers.org/mim/143025>,\\n     <https://www.ncbi'...\"",
     "traceback": [
      "Traceback \u001b[0;36m(most recent call last)\u001b[0m:\n",
      "  File \u001b[1;32m\"/Users/hsolbri1/pyvenv/jupyter/lib/python3.7/site-packages/IPython/core/interactiveshell.py\"\u001b[0m, line \u001b[1;32m3265\u001b[0m, in \u001b[1;35mrun_code\u001b[0m\n    exec(code_obj, self.user_global_ns, self.user_ns)\n",
      "  File \u001b[1;32m\"<ipython-input-7-aecca5017589>\"\u001b[0m, line \u001b[1;32m2\u001b[0m, in \u001b[1;35m<module>\u001b[0m\n    g.load('tests/source/biolink_hgnc.ttl', format=\"turtle\")\n",
      "  File \u001b[1;32m\"/Users/hsolbri1/pyvenv/jupyter/lib/python3.7/site-packages/rdflib/graph.py\"\u001b[0m, line \u001b[1;32m1050\u001b[0m, in \u001b[1;35mload\u001b[0m\n    self.parse(source, publicID, format)\n",
      "  File \u001b[1;32m\"/Users/hsolbri1/pyvenv/jupyter/lib/python3.7/site-packages/rdflib/graph.py\"\u001b[0m, line \u001b[1;32m1043\u001b[0m, in \u001b[1;35mparse\u001b[0m\n    parser.parse(source, self, **args)\n",
      "  File \u001b[1;32m\"/Users/hsolbri1/pyvenv/jupyter/lib/python3.7/site-packages/rdflib/plugins/parsers/notation3.py\"\u001b[0m, line \u001b[1;32m1870\u001b[0m, in \u001b[1;35mparse\u001b[0m\n    p.loadStream(source.getByteStream())\n",
      "  File \u001b[1;32m\"/Users/hsolbri1/pyvenv/jupyter/lib/python3.7/site-packages/rdflib/plugins/parsers/notation3.py\"\u001b[0m, line \u001b[1;32m434\u001b[0m, in \u001b[1;35mloadStream\u001b[0m\n    return self.loadBuf(stream.read())    # Not ideal\n",
      "  File \u001b[1;32m\"/Users/hsolbri1/pyvenv/jupyter/lib/python3.7/site-packages/rdflib/plugins/parsers/notation3.py\"\u001b[0m, line \u001b[1;32m440\u001b[0m, in \u001b[1;35mloadBuf\u001b[0m\n    self.feed(buf)\n",
      "  File \u001b[1;32m\"/Users/hsolbri1/pyvenv/jupyter/lib/python3.7/site-packages/rdflib/plugins/parsers/notation3.py\"\u001b[0m, line \u001b[1;32m466\u001b[0m, in \u001b[1;35mfeed\u001b[0m\n    i = self.directiveOrStatement(s, j)\n",
      "  File \u001b[1;32m\"/Users/hsolbri1/pyvenv/jupyter/lib/python3.7/site-packages/rdflib/plugins/parsers/notation3.py\"\u001b[0m, line \u001b[1;32m487\u001b[0m, in \u001b[1;35mdirectiveOrStatement\u001b[0m\n    j = self.statement(argstr, i)\n",
      "  File \u001b[1;32m\"/Users/hsolbri1/pyvenv/jupyter/lib/python3.7/site-packages/rdflib/plugins/parsers/notation3.py\"\u001b[0m, line \u001b[1;32m725\u001b[0m, in \u001b[1;35mstatement\u001b[0m\n    j = self.property_list(argstr, i, r[0])\n",
      "  File \u001b[1;32m\"/Users/hsolbri1/pyvenv/jupyter/lib/python3.7/site-packages/rdflib/plugins/parsers/notation3.py\"\u001b[0m, line \u001b[1;32m1089\u001b[0m, in \u001b[1;35mproperty_list\u001b[0m\n    \"objectList expected\")\n",
      "\u001b[0;36m  File \u001b[0;32m\"/Users/hsolbri1/pyvenv/jupyter/lib/python3.7/site-packages/rdflib/plugins/parsers/notation3.py\"\u001b[0;36m, line \u001b[0;32m1615\u001b[0;36m, in \u001b[0;35mBadSyntax\u001b[0;36m\u001b[0m\n\u001b[0;31m    raise BadSyntax(self._thisDoc, self.lines, argstr, i, msg)\u001b[0m\n",
      "\u001b[0;36m  File \u001b[0;32m\"<string>\"\u001b[0;36m, line \u001b[0;32munknown\u001b[0m\n\u001b[0;31mBadSyntax\u001b[0m\n"
     ],
     "output_type": "error"
    }
   ],
   "source": [
    "g2 = Graph()\n",
    "g.load('tests/source/biolink_hgnc.ttl', format=\"turtle\")"
   ]
  },
  {
   "cell_type": "code",
   "execution_count": null,
   "metadata": {},
   "outputs": [],
   "source": []
  }
 ],
 "metadata": {
  "kernelspec": {
   "display_name": "Python 2",
   "language": "python",
   "name": "python2"
  },
  "language_info": {
   "codemirror_mode": {
    "name": "ipython",
    "version": 2
   },
   "file_extension": ".py",
   "mimetype": "text/x-python",
   "name": "python",
   "nbconvert_exporter": "python",
   "pygments_lexer": "ipython2",
   "version": "2.7.6"
  }
 },
 "nbformat": 4,
 "nbformat_minor": 0
}
